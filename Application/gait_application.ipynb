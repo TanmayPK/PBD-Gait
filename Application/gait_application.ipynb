{
 "cells": [
  {
   "cell_type": "markdown",
   "metadata": {},
   "source": [
    "## Set up"
   ]
  },
  {
   "cell_type": "code",
   "execution_count": 1,
   "metadata": {},
   "outputs": [],
   "source": [
    "import pandas as pd\n",
    "import numpy as np\n",
    "import os\n",
    "import json"
   ]
  },
  {
   "cell_type": "code",
   "execution_count": 2,
   "metadata": {},
   "outputs": [],
   "source": [
    "\n",
    "from video_process_utils import *"
   ]
  },
  {
   "cell_type": "code",
   "execution_count": 4,
   "metadata": {},
   "outputs": [
    {
     "name": "stderr",
     "output_type": "stream",
     "text": [
      "Using TensorFlow backend.\n",
      "c:\\Users\\tanma\\miniconda3\\envs\\pbd\\lib\\site-packages\\tensorflow\\python\\framework\\dtypes.py:516: FutureWarning: Passing (type, 1) or '1type' as a synonym of type is deprecated; in a future version of numpy, it will be understood as (type, (1,)) / '(1,)type'.\n",
      "  _np_qint8 = np.dtype([(\"qint8\", np.int8, 1)])\n",
      "c:\\Users\\tanma\\miniconda3\\envs\\pbd\\lib\\site-packages\\tensorflow\\python\\framework\\dtypes.py:517: FutureWarning: Passing (type, 1) or '1type' as a synonym of type is deprecated; in a future version of numpy, it will be understood as (type, (1,)) / '(1,)type'.\n",
      "  _np_quint8 = np.dtype([(\"quint8\", np.uint8, 1)])\n",
      "c:\\Users\\tanma\\miniconda3\\envs\\pbd\\lib\\site-packages\\tensorflow\\python\\framework\\dtypes.py:518: FutureWarning: Passing (type, 1) or '1type' as a synonym of type is deprecated; in a future version of numpy, it will be understood as (type, (1,)) / '(1,)type'.\n",
      "  _np_qint16 = np.dtype([(\"qint16\", np.int16, 1)])\n",
      "c:\\Users\\tanma\\miniconda3\\envs\\pbd\\lib\\site-packages\\tensorflow\\python\\framework\\dtypes.py:519: FutureWarning: Passing (type, 1) or '1type' as a synonym of type is deprecated; in a future version of numpy, it will be understood as (type, (1,)) / '(1,)type'.\n",
      "  _np_quint16 = np.dtype([(\"quint16\", np.uint16, 1)])\n",
      "c:\\Users\\tanma\\miniconda3\\envs\\pbd\\lib\\site-packages\\tensorflow\\python\\framework\\dtypes.py:520: FutureWarning: Passing (type, 1) or '1type' as a synonym of type is deprecated; in a future version of numpy, it will be understood as (type, (1,)) / '(1,)type'.\n",
      "  _np_qint32 = np.dtype([(\"qint32\", np.int32, 1)])\n",
      "c:\\Users\\tanma\\miniconda3\\envs\\pbd\\lib\\site-packages\\tensorflow\\python\\framework\\dtypes.py:525: FutureWarning: Passing (type, 1) or '1type' as a synonym of type is deprecated; in a future version of numpy, it will be understood as (type, (1,)) / '(1,)type'.\n",
      "  np_resource = np.dtype([(\"resource\", np.ubyte, 1)])\n",
      "c:\\Users\\tanma\\miniconda3\\envs\\pbd\\lib\\site-packages\\tensorboard\\compat\\tensorflow_stub\\dtypes.py:541: FutureWarning: Passing (type, 1) or '1type' as a synonym of type is deprecated; in a future version of numpy, it will be understood as (type, (1,)) / '(1,)type'.\n",
      "  _np_qint8 = np.dtype([(\"qint8\", np.int8, 1)])\n",
      "c:\\Users\\tanma\\miniconda3\\envs\\pbd\\lib\\site-packages\\tensorboard\\compat\\tensorflow_stub\\dtypes.py:542: FutureWarning: Passing (type, 1) or '1type' as a synonym of type is deprecated; in a future version of numpy, it will be understood as (type, (1,)) / '(1,)type'.\n",
      "  _np_quint8 = np.dtype([(\"quint8\", np.uint8, 1)])\n",
      "c:\\Users\\tanma\\miniconda3\\envs\\pbd\\lib\\site-packages\\tensorboard\\compat\\tensorflow_stub\\dtypes.py:543: FutureWarning: Passing (type, 1) or '1type' as a synonym of type is deprecated; in a future version of numpy, it will be understood as (type, (1,)) / '(1,)type'.\n",
      "  _np_qint16 = np.dtype([(\"qint16\", np.int16, 1)])\n",
      "c:\\Users\\tanma\\miniconda3\\envs\\pbd\\lib\\site-packages\\tensorboard\\compat\\tensorflow_stub\\dtypes.py:544: FutureWarning: Passing (type, 1) or '1type' as a synonym of type is deprecated; in a future version of numpy, it will be understood as (type, (1,)) / '(1,)type'.\n",
      "  _np_quint16 = np.dtype([(\"quint16\", np.uint16, 1)])\n",
      "c:\\Users\\tanma\\miniconda3\\envs\\pbd\\lib\\site-packages\\tensorboard\\compat\\tensorflow_stub\\dtypes.py:545: FutureWarning: Passing (type, 1) or '1type' as a synonym of type is deprecated; in a future version of numpy, it will be understood as (type, (1,)) / '(1,)type'.\n",
      "  _np_qint32 = np.dtype([(\"qint32\", np.int32, 1)])\n",
      "c:\\Users\\tanma\\miniconda3\\envs\\pbd\\lib\\site-packages\\tensorboard\\compat\\tensorflow_stub\\dtypes.py:550: FutureWarning: Passing (type, 1) or '1type' as a synonym of type is deprecated; in a future version of numpy, it will be understood as (type, (1,)) / '(1,)type'.\n",
      "  np_resource = np.dtype([(\"resource\", np.ubyte, 1)])\n"
     ]
    }
   ],
   "source": [
    "from keras.models import load_model\n",
    "import keras.losses\n",
    "import keras.metrics\n",
    "keras.losses.loss = keras.losses.mse\n",
    "keras.metrics.loss = keras.metrics.mse"
   ]
  },
  {
   "cell_type": "code",
   "execution_count": 6,
   "metadata": {},
   "outputs": [],
   "source": [
    "\n",
    "\n",
    "from statsmodels.regression.linear_model import OLSResults"
   ]
  },
  {
   "cell_type": "code",
   "execution_count": null,
   "metadata": {},
   "outputs": [],
   "source": [
    "import subprocess\n",
    "\n",
    "openpose_root_dir = r\"D:\\KUL\\Privacy and big data\\openpose\\openpose-1.7.0-binaries-win64-gpu-python3.7-flir-3d_recommended\\openpose\"\n",
    "\n",
    "command = r\"\"\"\n",
    "& \".\\bin\\OpenPoseDemo.exe\" --video \"D:\\KUL\\Privacy and big data\\Project\\PBD-Gait\\Files\\in\\input.mp4\" --write_json \"D:\\KUL\\Privacy and big data\\Project\\PBD-Gait\\Files\\out\\keypoints\" --display 0 --render_pose 0\n",
    "\"\"\"\n",
    "result = subprocess.run([\"powershell\", \"-Command\", command], capture_output=True, text=True, cwd=openpose_root_dir)\n",
    "\n",
    "print(result.stdout)\n",
    "print(result.stderr)\n",
    "\n"
   ]
  },
  {
   "cell_type": "code",
   "execution_count": 7,
   "metadata": {},
   "outputs": [],
   "source": [
    "def convert_json2csv(json_dir):\n",
    "    resL = np.zeros((300,75))\n",
    "    resL[:] = np.nan\n",
    "    for frame in range(1,300):\n",
    "        test_image_json = '%sinput_%s_keypoints.json' %\\\n",
    "            (json_dir, str(frame).zfill(12))\n",
    "\n",
    "        if not os.path.isfile(test_image_json):\n",
    "            break\n",
    "        with open(test_image_json) as data_file:  \n",
    "            data = json.load(data_file)\n",
    "\n",
    "        for person in data['people']:\n",
    "            keypoints = person['pose_keypoints_2d']\n",
    "            xcoords = [keypoints[i] for i in range(len(keypoints)) if i % 3 == 0]\n",
    "            counter = 0\n",
    "            resL[frame-1,:] = keypoints\n",
    "            break\n",
    "\n",
    "    #we can save space by dropping rows after the last row that isn't all nan\n",
    "    check = np.apply_along_axis(lambda x: np.any(~np.isnan(x)),1,resL)\n",
    "    for i in range(len(check)-1,-1,-1):\n",
    "        if check[i]:\n",
    "            break\n",
    "    return resL[:i+1]"
   ]
  },
  {
   "cell_type": "code",
   "execution_count": 9,
   "metadata": {},
   "outputs": [
    {
     "ename": "AttributeError",
     "evalue": "'NoneType' object has no attribute 'items'",
     "output_type": "error",
     "traceback": [
      "\u001b[1;31m---------------------------------------------------------------------------\u001b[0m",
      "\u001b[1;31mAttributeError\u001b[0m                            Traceback (most recent call last)",
      "\u001b[1;32mc:\\Users\\tanma\\miniconda3\\envs\\pbd\\lib\\site-packages\\IPython\\core\\formatters.py\u001b[0m in \u001b[0;36m__call__\u001b[1;34m(self, obj)\u001b[0m\n\u001b[0;32m    343\u001b[0m             \u001b[0mmethod\u001b[0m \u001b[1;33m=\u001b[0m \u001b[0mget_real_method\u001b[0m\u001b[1;33m(\u001b[0m\u001b[0mobj\u001b[0m\u001b[1;33m,\u001b[0m \u001b[0mself\u001b[0m\u001b[1;33m.\u001b[0m\u001b[0mprint_method\u001b[0m\u001b[1;33m)\u001b[0m\u001b[1;33m\u001b[0m\u001b[1;33m\u001b[0m\u001b[0m\n\u001b[0;32m    344\u001b[0m             \u001b[1;32mif\u001b[0m \u001b[0mmethod\u001b[0m \u001b[1;32mis\u001b[0m \u001b[1;32mnot\u001b[0m \u001b[1;32mNone\u001b[0m\u001b[1;33m:\u001b[0m\u001b[1;33m\u001b[0m\u001b[1;33m\u001b[0m\u001b[0m\n\u001b[1;32m--> 345\u001b[1;33m                 \u001b[1;32mreturn\u001b[0m \u001b[0mmethod\u001b[0m\u001b[1;33m(\u001b[0m\u001b[1;33m)\u001b[0m\u001b[1;33m\u001b[0m\u001b[1;33m\u001b[0m\u001b[0m\n\u001b[0m\u001b[0;32m    346\u001b[0m             \u001b[1;32mreturn\u001b[0m \u001b[1;32mNone\u001b[0m\u001b[1;33m\u001b[0m\u001b[1;33m\u001b[0m\u001b[0m\n\u001b[0;32m    347\u001b[0m         \u001b[1;32melse\u001b[0m\u001b[1;33m:\u001b[0m\u001b[1;33m\u001b[0m\u001b[1;33m\u001b[0m\u001b[0m\n",
      "\u001b[1;32mc:\\Users\\tanma\\miniconda3\\envs\\pbd\\lib\\site-packages\\pandas\\core\\frame.py\u001b[0m in \u001b[0;36m_repr_html_\u001b[1;34m(self)\u001b[0m\n\u001b[0;32m    732\u001b[0m         \u001b[0mGH3541\u001b[0m\u001b[1;33m,\u001b[0m \u001b[0mGH3573\u001b[0m\u001b[1;33m\u001b[0m\u001b[1;33m\u001b[0m\u001b[0m\n\u001b[0;32m    733\u001b[0m         \"\"\"\n\u001b[1;32m--> 734\u001b[1;33m         \u001b[0mwidth\u001b[0m\u001b[1;33m,\u001b[0m \u001b[0mheight\u001b[0m \u001b[1;33m=\u001b[0m \u001b[0mconsole\u001b[0m\u001b[1;33m.\u001b[0m\u001b[0mget_console_size\u001b[0m\u001b[1;33m(\u001b[0m\u001b[1;33m)\u001b[0m\u001b[1;33m\u001b[0m\u001b[1;33m\u001b[0m\u001b[0m\n\u001b[0m\u001b[0;32m    735\u001b[0m         \u001b[0mmax_columns\u001b[0m \u001b[1;33m=\u001b[0m \u001b[0mget_option\u001b[0m\u001b[1;33m(\u001b[0m\u001b[1;34m\"display.max_columns\"\u001b[0m\u001b[1;33m)\u001b[0m\u001b[1;33m\u001b[0m\u001b[1;33m\u001b[0m\u001b[0m\n\u001b[0;32m    736\u001b[0m         \u001b[0mnb_columns\u001b[0m \u001b[1;33m=\u001b[0m \u001b[0mlen\u001b[0m\u001b[1;33m(\u001b[0m\u001b[0mself\u001b[0m\u001b[1;33m.\u001b[0m\u001b[0mcolumns\u001b[0m\u001b[1;33m)\u001b[0m\u001b[1;33m\u001b[0m\u001b[1;33m\u001b[0m\u001b[0m\n",
      "\u001b[1;32mc:\\Users\\tanma\\miniconda3\\envs\\pbd\\lib\\site-packages\\pandas\\io\\formats\\format.py\u001b[0m in \u001b[0;36mto_html\u001b[1;34m(self, buf, encoding, classes, notebook, border)\u001b[0m\n\u001b[0;32m    980\u001b[0m             \u001b[0mBuffer\u001b[0m \u001b[0mto\u001b[0m \u001b[0mwrite\u001b[0m \u001b[0mto\u001b[0m\u001b[1;33m.\u001b[0m \u001b[0mIf\u001b[0m \u001b[1;32mNone\u001b[0m\u001b[1;33m,\u001b[0m \u001b[0mthe\u001b[0m \u001b[0moutput\u001b[0m \u001b[1;32mis\u001b[0m \u001b[0mreturned\u001b[0m \u001b[1;32mas\u001b[0m \u001b[0ma\u001b[0m \u001b[0mstring\u001b[0m\u001b[1;33m.\u001b[0m\u001b[1;33m\u001b[0m\u001b[1;33m\u001b[0m\u001b[0m\n\u001b[0;32m    981\u001b[0m         \u001b[0mencoding\u001b[0m \u001b[1;33m:\u001b[0m \u001b[0mstr\u001b[0m\u001b[1;33m,\u001b[0m \u001b[0mdefault\u001b[0m\u001b[0;31m \u001b[0m\u001b[0;31m“\u001b[0m\u001b[0mutf\u001b[0m\u001b[1;33m-\u001b[0m\u001b[1;36m8\u001b[0m\u001b[0;31m”\u001b[0m\u001b[1;33m\u001b[0m\u001b[1;33m\u001b[0m\u001b[0m\n\u001b[1;32m--> 982\u001b[1;33m             \u001b[0mSet\u001b[0m \u001b[0mcharacter\u001b[0m \u001b[0mencoding\u001b[0m\u001b[1;33m.\u001b[0m\u001b[1;33m\u001b[0m\u001b[1;33m\u001b[0m\u001b[0m\n\u001b[0m\u001b[0;32m    983\u001b[0m         \u001b[0mclasses\u001b[0m \u001b[1;33m:\u001b[0m \u001b[0mstr\u001b[0m \u001b[1;32mor\u001b[0m \u001b[0mlist\u001b[0m\u001b[1;33m-\u001b[0m\u001b[0mlike\u001b[0m\u001b[1;33m\u001b[0m\u001b[1;33m\u001b[0m\u001b[0m\n\u001b[0;32m    984\u001b[0m             \u001b[0mclasses\u001b[0m \u001b[0mto\u001b[0m \u001b[0minclude\u001b[0m \u001b[1;32min\u001b[0m \u001b[0mthe\u001b[0m\u001b[0;31m \u001b[0m\u001b[0;31m`\u001b[0m\u001b[1;32mclass\u001b[0m\u001b[0;31m`\u001b[0m \u001b[0mattribute\u001b[0m \u001b[0mof\u001b[0m \u001b[0mthe\u001b[0m \u001b[0mopening\u001b[0m\u001b[1;33m\u001b[0m\u001b[1;33m\u001b[0m\u001b[0m\n",
      "\u001b[1;32mc:\\Users\\tanma\\miniconda3\\envs\\pbd\\lib\\site-packages\\pandas\\io\\formats\\html.py\u001b[0m in \u001b[0;36m__init__\u001b[1;34m(self, formatter, classes, border, table_id, render_links)\u001b[0m\n\u001b[0;32m     54\u001b[0m         self.col_space = {\n\u001b[0;32m     55\u001b[0m             \u001b[0mcolumn\u001b[0m\u001b[1;33m:\u001b[0m \u001b[1;34mf\"{value}px\"\u001b[0m \u001b[1;32mif\u001b[0m \u001b[0misinstance\u001b[0m\u001b[1;33m(\u001b[0m\u001b[0mvalue\u001b[0m\u001b[1;33m,\u001b[0m \u001b[0mint\u001b[0m\u001b[1;33m)\u001b[0m \u001b[1;32melse\u001b[0m \u001b[0mvalue\u001b[0m\u001b[1;33m\u001b[0m\u001b[1;33m\u001b[0m\u001b[0m\n\u001b[1;32m---> 56\u001b[1;33m             \u001b[1;32mfor\u001b[0m \u001b[0mcolumn\u001b[0m\u001b[1;33m,\u001b[0m \u001b[0mvalue\u001b[0m \u001b[1;32min\u001b[0m \u001b[0mself\u001b[0m\u001b[1;33m.\u001b[0m\u001b[0mfmt\u001b[0m\u001b[1;33m.\u001b[0m\u001b[0mcol_space\u001b[0m\u001b[1;33m.\u001b[0m\u001b[0mitems\u001b[0m\u001b[1;33m(\u001b[0m\u001b[1;33m)\u001b[0m\u001b[1;33m\u001b[0m\u001b[1;33m\u001b[0m\u001b[0m\n\u001b[0m\u001b[0;32m     57\u001b[0m         }\n\u001b[0;32m     58\u001b[0m \u001b[1;33m\u001b[0m\u001b[0m\n",
      "\u001b[1;31mAttributeError\u001b[0m: 'NoneType' object has no attribute 'items'"
     ]
    },
    {
     "data": {
      "text/plain": [
       "          0        1         2        3        4         5        6        7   \\\n",
       "0    121.921  91.2449  0.847875  161.962  133.874  0.775835  153.912  132.628   \n",
       "1    121.886  93.9273  0.631822  161.928  133.936  0.766678  153.899  133.923   \n",
       "2    121.878  97.8725  0.607743  159.277  133.998  0.775083  149.940  133.984   \n",
       "3    121.870  99.1929  0.453752  156.634  135.243  0.768227  145.949  135.252   \n",
       "4    119.249  91.1830  0.666602  157.934  133.931  0.766300  148.621  133.909   \n",
       "..       ...      ...       ...      ...      ...       ...      ...      ...   \n",
       "294  208.665  80.5851  0.747435  164.659  123.217  0.862943  175.280  123.208   \n",
       "295  207.352  85.8944  0.808471  164.628  123.286  0.874698  175.243  123.258   \n",
       "296  207.366  87.2327  0.819356  164.613  125.954  0.837902  175.234  125.918   \n",
       "297  205.979  91.2962  0.729357  164.625  129.940  0.848521  175.214  129.923   \n",
       "298  205.942  92.6027  0.674799  164.632  131.284  0.865866  175.227  132.521   \n",
       "\n",
       "           8        9   ...        65        66       67        68        69  \\\n",
       "0    0.662659  184.620  ...  0.784260   41.8747  419.452  0.648937   47.1902   \n",
       "1    0.652227  184.633  ...  0.762319   40.5227  422.077  0.652347   45.8460   \n",
       "2    0.674706  181.940  ...  0.713570   47.1821  431.450  0.663973   48.5470   \n",
       "3    0.667979  179.284  ...  0.831985   53.8504  435.484  0.569884   56.5374   \n",
       "4    0.661712    0.000  ...  0.756713   65.8701  442.106  0.670542   68.5369   \n",
       "..        ...      ...  ...       ...       ...      ...       ...       ...   \n",
       "294  0.831017  178.003  ...  0.798120  168.6040  451.463  0.704251  160.5970   \n",
       "295  0.827495  176.567  ...  0.685316  156.6260  452.767  0.698941  148.6090   \n",
       "296  0.793828  169.969  ...  0.715991  143.2800  452.835  0.689969  133.9240   \n",
       "297  0.801847  164.672  ...  0.764786  131.2370  454.105  0.713198  121.9300   \n",
       "298  0.837597  157.939  ...  0.810825  120.5920  454.135  0.722758  111.2490   \n",
       "\n",
       "          70        71        72       73        74  \n",
       "0    416.801  0.600408   89.8410  431.410  0.754443  \n",
       "1    420.768  0.606026   89.8963  432.833  0.758049  \n",
       "2    430.080  0.599336   97.8752  434.113  0.724553  \n",
       "3    432.796  0.550346  104.5930  432.869  0.739742  \n",
       "4    438.122  0.588460  113.9470  432.813  0.784611  \n",
       "..       ...       ...       ...      ...       ...  \n",
       "294  452.861  0.691107  117.9180  444.839  0.790635  \n",
       "295  454.136  0.654961  103.2310  444.826  0.810922  \n",
       "296  454.208  0.627327   91.2305  444.784  0.813009  \n",
       "297  455.463  0.630974   80.5499  442.110  0.817533  \n",
       "298  455.461  0.615624   69.8874  434.127  0.812608  \n",
       "\n",
       "[299 rows x 75 columns]"
      ]
     },
     "execution_count": 9,
     "metadata": {},
     "output_type": "execute_result"
    }
   ],
   "source": [
    "frames = convert_json2csv(\"../Files/out/keypoints/\")\n",
    "pd.DataFrame(frames)\n"
   ]
  },
  {
   "cell_type": "code",
   "execution_count": 10,
   "metadata": {},
   "outputs": [],
   "source": [
    "processed_videos = []\n",
    "processed_video_segments = []\n",
    "\n",
    "centered_filtered = process_video_and_add_cols(frames)\n",
    "centered_filtered_noswap = process_video_and_add_cols(frames,\n",
    "                                swap_orientation=False)"
   ]
  },
  {
   "cell_type": "code",
   "execution_count": 11,
   "metadata": {},
   "outputs": [],
   "source": [
    "def get_prediction(centered_filtered, col, side = None):\n",
    "    model = load_model(\"models/{}_best.pb\".format(col))\n",
    "    correction_model = OLSResults.load(\"models/{}_correction.pb\".format(col))\n",
    "\n",
    "    maps = {\n",
    "        \"KneeFlex_maxExtension\": (-29.4408212510502, 114.8431545843835),\n",
    "        # \"GDI\": (32.5990731990764, 80.74813196013362), # doublesided\n",
    "        \"GDI\": (36.314492983907, 77.03271217530302), # singlesided\n",
    "        \"gmfcs\": (1, 3),\n",
    "        \"speed\": (0.0718863507111867, 1.5259117583433834),\n",
    "        \"cadence\": (0.222, 1.71556665023985),\n",
    "        \"SEMLS_dev_residual\": (-0.8205001909638112, 3.309054961371647)\n",
    "    }\n",
    "\n",
    "    def undo_scaling(y,target_min,target_range):\n",
    "        return y*target_range+target_min\n",
    "\n",
    "    preds = []\n",
    "\n",
    "    video_len = centered_filtered.shape[0]\n",
    "    \n",
    "    cols = x_columns\n",
    "    if side == \"L\":\n",
    "        cols = x_columns_left\n",
    "    if side == \"R\":\n",
    "        cols = x_columns_right\n",
    "\n",
    "    samples = []\n",
    "    for nstart in range(0,video_len-124,31):\n",
    "        samples.append(centered_filtered[nstart:(nstart+124),cols])\n",
    "    X = np.stack(samples)\n",
    "    \n",
    "    p = model.predict(X)[:,0]\n",
    "    p = undo_scaling(p, maps[col][0], maps[col][1])\n",
    "    p = np.transpose(np.vstack([p,np.ones(p.shape[0])]))\n",
    "    p = correction_model.predict(pd.DataFrame(p))\n",
    "\n",
    "    return np.mean(p)"
   ]
  },
  {
   "cell_type": "code",
   "execution_count": 12,
   "metadata": {},
   "outputs": [],
   "source": [
    "def get_all_preds(centered_filtered):\n",
    "    cols = [\"GDI\",\"gmfcs\",\"speed\",\"cadence\",\"SEMLS_dev_residual\"]\n",
    "    return dict([(col, get_prediction(centered_filtered, col)) for col in cols] + [\n",
    "        (\"KneeFlex_maxExtension_L\", get_prediction(centered_filtered_noswap, \"KneeFlex_maxExtension\", \"L\")),\n",
    "        (\"KneeFlex_maxExtension_R\", get_prediction(centered_filtered_noswap, \"KneeFlex_maxExtension\", \"R\")),\n",
    "    ])\n",
    "    "
   ]
  },
  {
   "cell_type": "code",
   "execution_count": 13,
   "metadata": {},
   "outputs": [
    {
     "name": "stdout",
     "output_type": "stream",
     "text": [
      "WARNING:tensorflow:From c:\\Users\\tanma\\miniconda3\\envs\\pbd\\lib\\site-packages\\keras\\backend\\tensorflow_backend.py:4070: The name tf.nn.max_pool is deprecated. Please use tf.nn.max_pool2d instead.\n",
      "\n",
      "WARNING:tensorflow:From c:\\Users\\tanma\\miniconda3\\envs\\pbd\\lib\\site-packages\\keras\\backend\\tensorflow_backend.py:422: The name tf.global_variables is deprecated. Please use tf.compat.v1.global_variables instead.\n",
      "\n"
     ]
    },
    {
     "data": {
      "text/plain": [
       "{'GDI': 84.80461127527384,\n",
       " 'gmfcs': 1.3795744707902589,\n",
       " 'speed': 1.0397871673626542,\n",
       " 'cadence': 1.0731404260071038,\n",
       " 'SEMLS_dev_residual': -0.4406224531254339,\n",
       " 'KneeFlex_maxExtension_L': 12.886018471006933,\n",
       " 'KneeFlex_maxExtension_R': 7.552569266691002}"
      ]
     },
     "execution_count": 13,
     "metadata": {},
     "output_type": "execute_result"
    }
   ],
   "source": [
    "get_all_preds(centered_filtered)"
   ]
  },
  {
   "cell_type": "code",
   "execution_count": 28,
   "metadata": {},
   "outputs": [
    {
     "name": "stdout",
     "output_type": "stream",
     "text": [
      "Running on local URL:  http://127.0.0.1:7874\n",
      "\n",
      "To create a public link, set `share=True` in `launch()`.\n"
     ]
    },
    {
     "data": {
      "text/html": [
       "<div><iframe src=\"http://127.0.0.1:7874/\" width=\"100%\" height=\"500\" allow=\"autoplay; camera; microphone; clipboard-read; clipboard-write;\" frameborder=\"0\" allowfullscreen></iframe></div>"
      ],
      "text/plain": [
       "<IPython.core.display.HTML object>"
      ]
     },
     "metadata": {},
     "output_type": "display_data"
    },
    {
     "name": "stdout",
     "output_type": "stream",
     "text": [
      "Keyboard interruption in main thread... closing server.\n",
      "Killing tunnel 127.0.0.1:7872 <> https://04848f583aeecc9f61.gradio.live\n",
      "Killing tunnel 127.0.0.1:7873 <> https://add99e46d7ac5b47c7.gradio.live\n"
     ]
    },
    {
     "data": {
      "text/plain": []
     },
     "execution_count": 28,
     "metadata": {},
     "output_type": "execute_result"
    }
   ],
   "source": [
    "import gradio as gr\n",
    "def echo_string(input_string):\n",
    "    return input_string\n",
    "\n",
    "# Define your Gradio interface\n",
    "interface = gr.Interface(\n",
    "    fn=echo_string, \n",
    "    inputs=gr.components.Textbox(label=\"Enter a string\"), \n",
    "    outputs=gr.components.Textbox(label=\"Echoed string\")\n",
    ")\n",
    "\n",
    "# Launch the interface\n",
    "interface.launch(debug=True)\n"
   ]
  },
  {
   "cell_type": "code",
   "execution_count": null,
   "metadata": {},
   "outputs": [],
   "source": []
  }
 ],
 "metadata": {
  "kernelspec": {
   "display_name": "pbd",
   "language": "python",
   "name": "python3"
  },
  "language_info": {
   "codemirror_mode": {
    "name": "ipython",
    "version": 3
   },
   "file_extension": ".py",
   "mimetype": "text/x-python",
   "name": "python",
   "nbconvert_exporter": "python",
   "pygments_lexer": "ipython3",
   "version": "3.7.16"
  }
 },
 "nbformat": 4,
 "nbformat_minor": 2
}
